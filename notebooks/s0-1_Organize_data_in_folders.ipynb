{
 "cells": [
  {
   "cell_type": "code",
   "execution_count": 1,
   "metadata": {
    "ExecuteTime": {
     "end_time": "2017-01-10T17:39:12.299015",
     "start_time": "2017-01-10T17:39:09.312934"
    },
    "collapsed": false,
    "run_control": {
     "frozen": false,
     "read_only": false
    }
   },
   "outputs": [
    {
     "name": "stderr",
     "output_type": "stream",
     "text": [
      "/home/gioele/anaconda2/envs/py35-env/lib/python3.5/site-packages/matplotlib/font_manager.py:273: UserWarning: Matplotlib is building the font cache using fc-list. This may take a moment.\n",
      "  warnings.warn('Matplotlib is building the font cache using fc-list. This may take a moment.')\n",
      "/home/gioele/anaconda2/envs/py35-env/lib/python3.5/site-packages/matplotlib/font_manager.py:273: UserWarning: Matplotlib is building the font cache using fc-list. This may take a moment.\n",
      "  warnings.warn('Matplotlib is building the font cache using fc-list. This may take a moment.')\n"
     ]
    },
    {
     "name": "stdout",
     "output_type": "stream",
     "text": [
      "Populating the interactive namespace from numpy and matplotlib\n"
     ]
    }
   ],
   "source": [
    "%pylab inline"
   ]
  },
  {
   "cell_type": "code",
   "execution_count": 38,
   "metadata": {
    "ExecuteTime": {
     "end_time": "2017-01-12T01:41:47.728083",
     "start_time": "2017-01-12T01:41:47.721258"
    },
    "collapsed": false,
    "run_control": {
     "frozen": false,
     "read_only": false
    }
   },
   "outputs": [],
   "source": [
    "import loompy\n",
    "import shutil\n",
    "import glob\n",
    "import os"
   ]
  },
  {
   "cell_type": "code",
   "execution_count": 44,
   "metadata": {
    "ExecuteTime": {
     "end_time": "2017-01-12T14:14:29.595548",
     "start_time": "2017-01-12T14:14:29.460081"
    },
    "collapsed": true,
    "run_control": {
     "frozen": false,
     "read_only": false
    }
   },
   "outputs": [],
   "source": [
    "%mkdir /data2/loom_files/rsynced_loomfiles"
   ]
  },
  {
   "cell_type": "code",
   "execution_count": 46,
   "metadata": {
    "ExecuteTime": {
     "end_time": "2017-01-13T10:08:21.906842",
     "start_time": "2017-01-13T10:08:18.266644"
    },
    "collapsed": false,
    "run_control": {
     "frozen": false,
     "read_only": false
    }
   },
   "outputs": [
    {
     "name": "stdout",
     "output_type": "stream",
     "text": [
      "\n",
      "\n",
      "Updates are available for some Cloud SDK components.  To install them,\n",
      "please run:\n",
      "  $ gcloud components update\n",
      "\n",
      "\n",
      "WARNING: gsutil rsync uses hashes when modification time is not available at\n",
      "both the source and destination. Your crcmod installation isn't using the\n",
      "module's C extension, so checksumming will run very slowly. If this is your\n",
      "first rsync since updating gsutil, this rsync can take significantly longer than\n",
      "usual. For help installing the extension, please see \"gsutil help crcmod\".\n",
      "\n",
      "Building synchronization state...\n",
      "Starting synchronization\n"
     ]
    }
   ],
   "source": [
    "!gsutil rsync -d -r gs://linnarsson-lab-chromium/loom /data2/loom_files/rsynced_loomfiles"
   ]
  },
  {
   "cell_type": "code",
   "execution_count": 51,
   "metadata": {
    "ExecuteTime": {
     "end_time": "2017-01-13T10:09:28.934678",
     "start_time": "2017-01-13T10:09:28.912050"
    },
    "collapsed": false
   },
   "outputs": [
    {
     "data": {
      "text/plain": [
       "214"
      ]
     },
     "execution_count": 51,
     "metadata": {},
     "output_type": "execute_result"
    }
   ],
   "source": [
    "a = !ls /data2/loom_files/rsynced_loomfiles\n",
    "len(a)"
   ]
  },
  {
   "cell_type": "code",
   "execution_count": 52,
   "metadata": {
    "ExecuteTime": {
     "end_time": "2017-01-13T10:11:59.628248",
     "start_time": "2017-01-13T10:11:27.044156"
    },
    "collapsed": true,
    "run_control": {
     "frozen": false,
     "read_only": false
    }
   },
   "outputs": [],
   "source": [
    "cp /data2/loom_files/rsynced_loomfiles/*.loom /data2/loom_files/"
   ]
  },
  {
   "cell_type": "code",
   "execution_count": 53,
   "metadata": {
    "ExecuteTime": {
     "end_time": "2017-01-13T10:12:35.580843",
     "start_time": "2017-01-13T10:12:35.571103"
    },
    "collapsed": false,
    "run_control": {
     "frozen": false,
     "read_only": false
    }
   },
   "outputs": [],
   "source": [
    "paths = glob.glob( \"/data2/loom_files/*.loom\")"
   ]
  },
  {
   "cell_type": "code",
   "execution_count": 54,
   "metadata": {
    "ExecuteTime": {
     "end_time": "2017-01-13T10:12:36.231895",
     "start_time": "2017-01-13T10:12:36.224893"
    },
    "collapsed": false,
    "run_control": {
     "frozen": false,
     "read_only": false
    }
   },
   "outputs": [
    {
     "data": {
      "text/plain": [
       "214"
      ]
     },
     "execution_count": 54,
     "metadata": {},
     "output_type": "execute_result"
    }
   ],
   "source": [
    "len(paths)"
   ]
  },
  {
   "cell_type": "code",
   "execution_count": 56,
   "metadata": {
    "ExecuteTime": {
     "end_time": "2017-01-13T10:17:37.124281",
     "start_time": "2017-01-13T10:15:39.708102"
    },
    "collapsed": false,
    "run_control": {
     "frozen": false,
     "read_only": false
    },
    "scrolled": true
   },
   "outputs": [
    {
     "name": "stderr",
     "output_type": "stream",
     "text": [
      "2017-01-13 10:15:39,727 - INFO - Connecting to: /data2/loom_files/10X01_1.loom\n",
      "2017-01-13 10:15:40,280 - INFO - Connecting to: /data2/loom_files/10X02_1.loom\n",
      "2017-01-13 10:15:40,820 - INFO - Connecting to: /data2/loom_files/10X04_1.loom\n",
      "2017-01-13 10:15:41,226 - INFO - Connecting to: /data2/loom_files/10X04_2.loom\n",
      "2017-01-13 10:15:41,657 - INFO - Connecting to: /data2/loom_files/10X04_3.loom\n",
      "2017-01-13 10:15:41,939 - INFO - Connecting to: /data2/loom_files/10X04_4.loom\n",
      "2017-01-13 10:15:42,332 - INFO - Connecting to: /data2/loom_files/10X05_1.loom\n",
      "2017-01-13 10:15:42,935 - INFO - Connecting to: /data2/loom_files/10X05_2.loom\n",
      "2017-01-13 10:15:43,398 - INFO - Connecting to: /data2/loom_files/10X05_3.loom\n",
      "2017-01-13 10:15:43,795 - INFO - Connecting to: /data2/loom_files/10X05_4.loom\n",
      "2017-01-13 10:15:44,187 - INFO - Connecting to: /data2/loom_files/10X06_1.loom\n",
      "2017-01-13 10:15:44,509 - INFO - Connecting to: /data2/loom_files/10X06_2.loom\n",
      "2017-01-13 10:15:44,789 - INFO - Connecting to: /data2/loom_files/10X06_3.loom\n",
      "2017-01-13 10:15:45,185 - INFO - Connecting to: /data2/loom_files/10X07_1.loom\n",
      "2017-01-13 10:15:45,531 - INFO - Connecting to: /data2/loom_files/10X08_1.loom\n",
      "2017-01-13 10:15:46,036 - INFO - Connecting to: /data2/loom_files/10X09_1.loom\n",
      "2017-01-13 10:15:46,766 - INFO - Connecting to: /data2/loom_files/10X09_2.loom\n",
      "2017-01-13 10:15:47,439 - INFO - Connecting to: /data2/loom_files/10X09_3.loom\n",
      "2017-01-13 10:15:47,886 - INFO - Connecting to: /data2/loom_files/10X10_2.loom\n",
      "2017-01-13 10:15:48,315 - INFO - Connecting to: /data2/loom_files/10X10_3.loom\n",
      "2017-01-13 10:15:48,769 - INFO - Connecting to: /data2/loom_files/10X10_4.loom\n",
      "2017-01-13 10:15:49,658 - INFO - Connecting to: /data2/loom_files/10X11_1.loom\n",
      "2017-01-13 10:15:50,081 - INFO - Connecting to: /data2/loom_files/10X12_2.loom\n",
      "2017-01-13 10:15:50,496 - INFO - Connecting to: /data2/loom_files/10X12_3.loom\n",
      "2017-01-13 10:15:50,917 - INFO - Connecting to: /data2/loom_files/10X12_4.loom\n",
      "2017-01-13 10:15:51,441 - INFO - Connecting to: /data2/loom_files/10X13_2.loom\n",
      "2017-01-13 10:15:52,400 - INFO - Connecting to: /data2/loom_files/10X13_3.loom\n",
      "2017-01-13 10:15:53,345 - INFO - Connecting to: /data2/loom_files/10X13_4.loom\n",
      "2017-01-13 10:15:53,851 - INFO - Connecting to: /data2/loom_files/10X13_5.loom\n",
      "2017-01-13 10:15:54,211 - INFO - Connecting to: /data2/loom_files/10X14_2.loom\n",
      "2017-01-13 10:15:54,619 - INFO - Connecting to: /data2/loom_files/10X14_3.loom\n",
      "2017-01-13 10:15:55,080 - INFO - Connecting to: /data2/loom_files/10X14_4.loom\n",
      "2017-01-13 10:15:55,543 - INFO - Connecting to: /data2/loom_files/10X15_2.loom\n",
      "2017-01-13 10:15:55,911 - INFO - Connecting to: /data2/loom_files/10X15_3.loom\n",
      "2017-01-13 10:15:56,317 - INFO - Connecting to: /data2/loom_files/10X15_4.loom\n",
      "2017-01-13 10:15:56,709 - INFO - Connecting to: /data2/loom_files/10X15_5.loom\n",
      "2017-01-13 10:15:57,190 - INFO - Connecting to: /data2/loom_files/10X16_2.loom\n",
      "2017-01-13 10:15:57,504 - INFO - Connecting to: /data2/loom_files/10X16_3.loom\n",
      "2017-01-13 10:15:57,907 - INFO - Connecting to: /data2/loom_files/10X16_4.loom\n",
      "2017-01-13 10:15:58,352 - INFO - Connecting to: /data2/loom_files/10X16_5.loom\n",
      "2017-01-13 10:15:58,740 - INFO - Connecting to: /data2/loom_files/10X17_2.loom\n",
      "2017-01-13 10:15:59,222 - INFO - Connecting to: /data2/loom_files/10X17_3.loom\n",
      "2017-01-13 10:15:59,670 - INFO - Connecting to: /data2/loom_files/10X17_4.loom\n",
      "2017-01-13 10:16:00,146 - INFO - Connecting to: /data2/loom_files/10X17_5.loom\n",
      "2017-01-13 10:16:00,751 - INFO - Connecting to: /data2/loom_files/10X18_2.loom\n",
      "2017-01-13 10:16:01,244 - INFO - Connecting to: /data2/loom_files/10X18_3.loom\n",
      "2017-01-13 10:16:01,647 - INFO - Connecting to: /data2/loom_files/10X18_4.loom\n",
      "2017-01-13 10:16:02,089 - INFO - Connecting to: /data2/loom_files/10X18_5.loom\n",
      "2017-01-13 10:16:02,499 - INFO - Connecting to: /data2/loom_files/10X19_1.loom\n",
      "2017-01-13 10:16:02,799 - INFO - Connecting to: /data2/loom_files/10X19_2.loom\n",
      "2017-01-13 10:16:03,341 - INFO - Connecting to: /data2/loom_files/10X19_3.loom\n",
      "2017-01-13 10:16:04,050 - INFO - Connecting to: /data2/loom_files/10X19_4.loom\n",
      "2017-01-13 10:16:04,558 - INFO - Connecting to: /data2/loom_files/10X20_1.loom\n",
      "2017-01-13 10:16:05,085 - INFO - Connecting to: /data2/loom_files/10X20_2.loom\n",
      "2017-01-13 10:16:05,561 - INFO - Connecting to: /data2/loom_files/10X20_3.loom\n",
      "2017-01-13 10:16:06,075 - INFO - Connecting to: /data2/loom_files/10X20_4.loom\n",
      "2017-01-13 10:16:06,538 - INFO - Connecting to: /data2/loom_files/10X21_2.loom\n",
      "2017-01-13 10:16:07,064 - INFO - Connecting to: /data2/loom_files/10X22_1.loom\n",
      "2017-01-13 10:16:07,551 - INFO - Connecting to: /data2/loom_files/10X22_2.loom\n",
      "2017-01-13 10:16:08,046 - INFO - Connecting to: /data2/loom_files/10X22_3.loom\n",
      "2017-01-13 10:16:08,662 - INFO - Connecting to: /data2/loom_files/10X22_4.loom\n",
      "2017-01-13 10:16:09,270 - INFO - Connecting to: /data2/loom_files/10X23_2.loom\n",
      "2017-01-13 10:16:09,821 - INFO - Connecting to: /data2/loom_files/10X23_3.loom\n",
      "2017-01-13 10:16:10,380 - INFO - Connecting to: /data2/loom_files/10X23_4.loom\n",
      "2017-01-13 10:16:10,763 - INFO - Connecting to: /data2/loom_files/10X24_1.loom\n",
      "2017-01-13 10:16:11,278 - INFO - Connecting to: /data2/loom_files/10X24_2.loom\n",
      "2017-01-13 10:16:11,724 - INFO - Connecting to: /data2/loom_files/10X24_3.loom\n",
      "2017-01-13 10:16:12,188 - INFO - Connecting to: /data2/loom_files/10X24_4.loom\n",
      "2017-01-13 10:16:12,601 - INFO - Connecting to: /data2/loom_files/10X25_2.loom\n",
      "2017-01-13 10:16:13,049 - INFO - Connecting to: /data2/loom_files/10X25_3.loom\n",
      "2017-01-13 10:16:13,468 - INFO - Connecting to: /data2/loom_files/10X25_4.loom\n",
      "2017-01-13 10:16:14,024 - INFO - Connecting to: /data2/loom_files/10X25_5.loom\n",
      "2017-01-13 10:16:14,533 - INFO - Connecting to: /data2/loom_files/10X25_6.loom\n",
      "2017-01-13 10:16:14,574 - WARNING - Fixing unicode bug by re-setting row attribute 'Accession'\n",
      "2017-01-13 10:16:14,726 - WARNING - Fixing unicode bug by re-setting row attribute 'Gene'\n",
      "2017-01-13 10:16:15,347 - INFO - Connecting to: /data2/loom_files/10X25_7.loom\n",
      "2017-01-13 10:16:15,972 - INFO - Connecting to: /data2/loom_files/10X26_1.loom\n",
      "2017-01-13 10:16:16,664 - INFO - Connecting to: /data2/loom_files/10X26_2.loom\n",
      "2017-01-13 10:16:16,926 - INFO - Connecting to: /data2/loom_files/10X26_3.loom\n",
      "2017-01-13 10:16:17,854 - INFO - Connecting to: /data2/loom_files/10X26_4.loom\n",
      "2017-01-13 10:16:18,774 - INFO - Connecting to: /data2/loom_files/10X27_2.loom\n",
      "2017-01-13 10:16:19,308 - INFO - Connecting to: /data2/loom_files/10X27_3.loom\n",
      "2017-01-13 10:16:19,863 - INFO - Connecting to: /data2/loom_files/10X27_7.loom\n",
      "2017-01-13 10:16:19,900 - WARNING - Fixing unicode bug by re-setting row attribute 'Accession'\n",
      "2017-01-13 10:16:20,045 - WARNING - Fixing unicode bug by re-setting row attribute 'Gene'\n",
      "2017-01-13 10:16:20,589 - INFO - Connecting to: /data2/loom_files/10X28_2.loom\n",
      "2017-01-13 10:16:21,215 - INFO - Connecting to: /data2/loom_files/10X28_3.loom\n",
      "2017-01-13 10:16:21,806 - INFO - Connecting to: /data2/loom_files/10X28_4.loom\n",
      "2017-01-13 10:16:22,312 - INFO - Connecting to: /data2/loom_files/10X28_5.loom\n",
      "2017-01-13 10:16:22,770 - INFO - Connecting to: /data2/loom_files/10X29_2.loom\n",
      "2017-01-13 10:16:23,261 - INFO - Connecting to: /data2/loom_files/10X29_3.loom\n",
      "2017-01-13 10:16:23,737 - INFO - Connecting to: /data2/loom_files/10X30_4.loom\n",
      "2017-01-13 10:16:24,118 - INFO - Connecting to: /data2/loom_files/10X30_5.loom\n",
      "2017-01-13 10:16:24,548 - INFO - Connecting to: /data2/loom_files/10X31_5.loom\n",
      "2017-01-13 10:16:24,881 - INFO - Connecting to: /data2/loom_files/10X32_2.loom\n",
      "2017-01-13 10:16:25,283 - INFO - Connecting to: /data2/loom_files/10X32_3.loom\n",
      "2017-01-13 10:16:25,742 - INFO - Connecting to: /data2/loom_files/10X32_4.loom\n",
      "2017-01-13 10:16:26,133 - INFO - Connecting to: /data2/loom_files/10X32_5.loom\n",
      "2017-01-13 10:16:26,564 - INFO - Connecting to: /data2/loom_files/10X32_6.loom\n",
      "2017-01-13 10:16:27,008 - INFO - Connecting to: /data2/loom_files/10X33_1.loom\n",
      "2017-01-13 10:16:27,437 - INFO - Connecting to: /data2/loom_files/10X33_2.loom\n",
      "2017-01-13 10:16:27,797 - INFO - Connecting to: /data2/loom_files/10X33_3.loom\n",
      "2017-01-13 10:16:28,122 - INFO - Connecting to: /data2/loom_files/10X33_4.loom\n",
      "2017-01-13 10:16:28,472 - INFO - Connecting to: /data2/loom_files/10X34_1.loom\n",
      "2017-01-13 10:16:28,800 - INFO - Connecting to: /data2/loom_files/10X34_2.loom\n",
      "2017-01-13 10:16:29,135 - INFO - Connecting to: /data2/loom_files/10X34_3.loom\n",
      "2017-01-13 10:16:29,628 - INFO - Connecting to: /data2/loom_files/10X34_4.loom\n",
      "2017-01-13 10:16:30,102 - INFO - Connecting to: /data2/loom_files/10X35_1.loom\n",
      "2017-01-13 10:16:30,583 - INFO - Connecting to: /data2/loom_files/10X35_2.loom\n",
      "2017-01-13 10:16:31,016 - INFO - Connecting to: /data2/loom_files/10X35_3.loom\n",
      "2017-01-13 10:16:31,404 - INFO - Connecting to: /data2/loom_files/10X35_4.loom\n",
      "2017-01-13 10:16:31,887 - INFO - Connecting to: /data2/loom_files/10X36_1.loom\n",
      "2017-01-13 10:16:32,167 - INFO - Connecting to: /data2/loom_files/10X36_2.loom\n",
      "2017-01-13 10:16:32,455 - INFO - Connecting to: /data2/loom_files/10X36_3.loom\n",
      "2017-01-13 10:16:32,730 - INFO - Connecting to: /data2/loom_files/10X37_2.loom\n",
      "2017-01-13 10:16:33,366 - INFO - Connecting to: /data2/loom_files/10X38_1.loom\n",
      "2017-01-13 10:16:33,753 - INFO - Connecting to: /data2/loom_files/10X38_2.loom\n",
      "2017-01-13 10:16:34,150 - INFO - Connecting to: /data2/loom_files/10X38_3.loom\n",
      "2017-01-13 10:16:34,550 - INFO - Connecting to: /data2/loom_files/10X39_2.loom\n",
      "2017-01-13 10:16:35,128 - INFO - Connecting to: /data2/loom_files/10X39_3.loom\n",
      "2017-01-13 10:16:35,713 - INFO - Connecting to: /data2/loom_files/10X40_3.loom\n",
      "2017-01-13 10:16:36,140 - INFO - Connecting to: /data2/loom_files/10X40_4.loom\n",
      "2017-01-13 10:16:36,618 - INFO - Connecting to: /data2/loom_files/10X40_5.loom\n",
      "2017-01-13 10:16:37,056 - INFO - Connecting to: /data2/loom_files/10X40_6.loom\n",
      "2017-01-13 10:16:37,515 - INFO - Connecting to: /data2/loom_files/10X41_3.loom\n",
      "2017-01-13 10:16:38,002 - INFO - Connecting to: /data2/loom_files/10X41_6.loom\n",
      "2017-01-13 10:16:38,514 - INFO - Connecting to: /data2/loom_files/10X42_3.loom\n",
      "2017-01-13 10:16:39,111 - INFO - Connecting to: /data2/loom_files/10X43_1.loom\n",
      "2017-01-13 10:16:39,596 - INFO - Connecting to: /data2/loom_files/10X43_2.loom\n",
      "2017-01-13 10:16:39,912 - INFO - Connecting to: /data2/loom_files/10X43_3.loom\n",
      "2017-01-13 10:16:40,458 - INFO - Connecting to: /data2/loom_files/10X44_3.loom\n",
      "2017-01-13 10:16:40,979 - INFO - Connecting to: /data2/loom_files/10X45_2.loom\n",
      "2017-01-13 10:16:41,525 - INFO - Connecting to: /data2/loom_files/10X45_4.loom\n",
      "2017-01-13 10:16:42,024 - INFO - Connecting to: /data2/loom_files/10X45_5.loom\n",
      "2017-01-13 10:16:42,568 - INFO - Connecting to: /data2/loom_files/10X45_6.loom\n",
      "2017-01-13 10:16:43,150 - INFO - Connecting to: /data2/loom_files/10X46_1.loom\n",
      "2017-01-13 10:16:43,594 - INFO - Connecting to: /data2/loom_files/10X46_2.loom\n",
      "2017-01-13 10:16:44,000 - INFO - Connecting to: /data2/loom_files/10X46_3.loom\n",
      "2017-01-13 10:16:44,396 - INFO - Connecting to: /data2/loom_files/10X47_2.loom\n",
      "2017-01-13 10:16:44,908 - INFO - Connecting to: /data2/loom_files/10X47_3.loom\n",
      "2017-01-13 10:16:45,422 - INFO - Connecting to: /data2/loom_files/10X48_1.loom\n",
      "2017-01-13 10:16:45,742 - INFO - Connecting to: /data2/loom_files/10X48_2.loom\n",
      "2017-01-13 10:16:46,114 - INFO - Connecting to: /data2/loom_files/10X48_3.loom\n",
      "2017-01-13 10:16:46,403 - INFO - Connecting to: /data2/loom_files/10X48_4.loom\n",
      "2017-01-13 10:16:46,696 - INFO - Connecting to: /data2/loom_files/10X49_1.loom\n",
      "2017-01-13 10:16:47,271 - INFO - Connecting to: /data2/loom_files/10X49_2.loom\n",
      "2017-01-13 10:16:47,725 - INFO - Connecting to: /data2/loom_files/10X49_3.loom\n",
      "2017-01-13 10:16:48,333 - INFO - Connecting to: /data2/loom_files/10X49_4.loom\n",
      "2017-01-13 10:16:49,072 - INFO - Connecting to: /data2/loom_files/10X49_5.loom\n",
      "2017-01-13 10:16:49,858 - INFO - Connecting to: /data2/loom_files/10X50_1.loom\n",
      "2017-01-13 10:16:50,444 - INFO - Connecting to: /data2/loom_files/10X50_2.loom\n",
      "2017-01-13 10:16:51,075 - INFO - Connecting to: /data2/loom_files/10X50_3.loom\n",
      "2017-01-13 10:16:51,499 - INFO - Connecting to: /data2/loom_files/10X50_4.loom\n",
      "2017-01-13 10:16:52,113 - INFO - Connecting to: /data2/loom_files/10X50_5.loom\n",
      "2017-01-13 10:16:52,750 - INFO - Connecting to: /data2/loom_files/10X50_6.loom\n",
      "2017-01-13 10:16:53,326 - INFO - Connecting to: /data2/loom_files/10X50_7.loom\n",
      "2017-01-13 10:16:53,909 - INFO - Connecting to: /data2/loom_files/10X50_8.loom\n",
      "2017-01-13 10:16:54,500 - INFO - Connecting to: /data2/loom_files/10X51_1.loom\n",
      "2017-01-13 10:16:55,049 - INFO - Connecting to: /data2/loom_files/10X51_2.loom\n",
      "2017-01-13 10:16:55,558 - INFO - Connecting to: /data2/loom_files/10X51_3.loom\n",
      "2017-01-13 10:16:56,009 - INFO - Connecting to: /data2/loom_files/10X51_4.loom\n",
      "2017-01-13 10:16:56,464 - INFO - Connecting to: /data2/loom_files/10X51_5.loom\n",
      "2017-01-13 10:16:57,229 - INFO - Connecting to: /data2/loom_files/10X52_1.loom\n",
      "2017-01-13 10:16:57,858 - INFO - Connecting to: /data2/loom_files/10X52_2.loom\n",
      "2017-01-13 10:16:58,543 - INFO - Connecting to: /data2/loom_files/10X52_3.loom\n",
      "2017-01-13 10:16:59,115 - INFO - Connecting to: /data2/loom_files/10X52_4.loom\n",
      "2017-01-13 10:16:59,775 - INFO - Connecting to: /data2/loom_files/10X52_5.loom\n",
      "2017-01-13 10:17:00,568 - INFO - Connecting to: /data2/loom_files/10X52_6.loom\n",
      "2017-01-13 10:17:01,381 - INFO - Connecting to: /data2/loom_files/10X52_7.loom\n",
      "2017-01-13 10:17:02,096 - INFO - Connecting to: /data2/loom_files/10X52_8.loom\n",
      "2017-01-13 10:17:02,895 - INFO - Connecting to: /data2/loom_files/10X53_1.loom\n",
      "2017-01-13 10:17:03,550 - INFO - Connecting to: /data2/loom_files/10X53_2.loom\n",
      "2017-01-13 10:17:04,363 - INFO - Connecting to: /data2/loom_files/10X53_3.loom\n",
      "2017-01-13 10:17:05,048 - INFO - Connecting to: /data2/loom_files/10X53_4.loom\n",
      "2017-01-13 10:17:05,842 - INFO - Connecting to: /data2/loom_files/10X53_5.loom\n",
      "2017-01-13 10:17:06,576 - INFO - Connecting to: /data2/loom_files/10X53_6.loom\n",
      "2017-01-13 10:17:07,321 - INFO - Connecting to: /data2/loom_files/10X53_7.loom\n",
      "2017-01-13 10:17:07,360 - WARNING - Fixing unicode bug by re-setting row attribute 'Accession'\n",
      "2017-01-13 10:17:07,509 - WARNING - Fixing unicode bug by re-setting row attribute 'Gene'\n",
      "2017-01-13 10:17:07,896 - INFO - Connecting to: /data2/loom_files/10X54_1.loom\n",
      "2017-01-13 10:17:08,956 - INFO - Connecting to: /data2/loom_files/10X54_2.loom\n",
      "2017-01-13 10:17:09,903 - INFO - Connecting to: /data2/loom_files/10X54_3.loom\n",
      "2017-01-13 10:17:10,903 - INFO - Connecting to: /data2/loom_files/10X54_4.loom\n",
      "2017-01-13 10:17:11,938 - INFO - Connecting to: /data2/loom_files/10X54_5.loom\n",
      "2017-01-13 10:17:12,701 - INFO - Connecting to: /data2/loom_files/10X54_6.loom\n",
      "2017-01-13 10:17:13,057 - INFO - Connecting to: /data2/loom_files/10X54_7.loom\n",
      "2017-01-13 10:17:13,954 - INFO - Connecting to: /data2/loom_files/10X54_8.loom\n",
      "2017-01-13 10:17:14,819 - INFO - Connecting to: /data2/loom_files/10X55_1.loom\n",
      "2017-01-13 10:17:15,600 - INFO - Connecting to: /data2/loom_files/10X55_2.loom\n",
      "2017-01-13 10:17:16,366 - INFO - Connecting to: /data2/loom_files/10X55_3.loom\n",
      "2017-01-13 10:17:17,122 - INFO - Connecting to: /data2/loom_files/10X55_4.loom\n",
      "2017-01-13 10:17:17,877 - INFO - Connecting to: /data2/loom_files/10X55_5.loom\n",
      "2017-01-13 10:17:18,981 - INFO - Connecting to: /data2/loom_files/10X55_6.loom\n",
      "2017-01-13 10:17:19,974 - INFO - Connecting to: /data2/loom_files/10X55_7.loom\n",
      "2017-01-13 10:17:21,020 - INFO - Connecting to: /data2/loom_files/10X55_8.loom\n",
      "2017-01-13 10:17:22,125 - INFO - Connecting to: /data2/loom_files/10X56_1.loom\n",
      "2017-01-13 10:17:22,347 - INFO - Connecting to: /data2/loom_files/10X56_2.loom\n",
      "2017-01-13 10:17:22,811 - INFO - Connecting to: /data2/loom_files/10X56_3.loom\n",
      "2017-01-13 10:17:22,848 - WARNING - Fixing unicode bug by re-setting row attribute 'Accession'\n",
      "2017-01-13 10:17:22,974 - WARNING - Fixing unicode bug by re-setting row attribute 'Gene'\n",
      "2017-01-13 10:17:23,393 - INFO - Connecting to: /data2/loom_files/10X56_4.loom\n",
      "2017-01-13 10:17:23,646 - INFO - Connecting to: /data2/loom_files/10X56_6.loom\n",
      "2017-01-13 10:17:23,686 - WARNING - Fixing unicode bug by re-setting row attribute 'Accession'\n",
      "2017-01-13 10:17:23,835 - WARNING - Fixing unicode bug by re-setting row attribute 'Gene'\n",
      "2017-01-13 10:17:24,433 - INFO - Connecting to: /data2/loom_files/10X56_8.loom\n",
      "2017-01-13 10:17:24,937 - INFO - Connecting to: /data2/loom_files/10X57_1.loom\n",
      "2017-01-13 10:17:25,530 - INFO - Connecting to: /data2/loom_files/10X57_2.loom\n",
      "2017-01-13 10:17:26,409 - INFO - Connecting to: /data2/loom_files/10X57_3.loom\n",
      "2017-01-13 10:17:27,271 - INFO - Connecting to: /data2/loom_files/10X57_4.loom\n",
      "2017-01-13 10:17:27,959 - INFO - Connecting to: /data2/loom_files/10X57_5.loom\n",
      "2017-01-13 10:17:28,539 - INFO - Connecting to: /data2/loom_files/10X57_6.loom\n",
      "2017-01-13 10:17:29,334 - INFO - Connecting to: /data2/loom_files/10X57_7.loom\n",
      "2017-01-13 10:17:30,143 - INFO - Connecting to: /data2/loom_files/10X58_5.loom\n",
      "2017-01-13 10:17:30,817 - INFO - Connecting to: /data2/loom_files/10X59_3.loom\n",
      "2017-01-13 10:17:31,272 - INFO - Connecting to: /data2/loom_files/10X59_5.loom\n",
      "2017-01-13 10:17:31,965 - INFO - Connecting to: /data2/loom_files/10X60_3.loom\n",
      "2017-01-13 10:17:32,462 - INFO - Connecting to: /data2/loom_files/10X68_6.loom\n",
      "2017-01-13 10:17:33,074 - INFO - Connecting to: /data2/loom_files/10X69_4.loom\n",
      "2017-01-13 10:17:33,687 - INFO - Connecting to: /data2/loom_files/10X70_3.loom\n",
      "2017-01-13 10:17:34,219 - INFO - Connecting to: /data2/loom_files/10X70_4.loom\n",
      "2017-01-13 10:17:34,818 - INFO - Connecting to: /data2/loom_files/10X70_5.loom\n",
      "2017-01-13 10:17:35,322 - INFO - Connecting to: /data2/loom_files/10X70_6.loom\n",
      "2017-01-13 10:17:35,913 - INFO - Connecting to: /data2/loom_files/10X71_3.loom\n",
      "2017-01-13 10:17:36,534 - INFO - Connecting to: /data2/loom_files/10X71_5.loom\n"
     ]
    }
   ],
   "source": [
    "for path in paths:\n",
    "    try:\n",
    "        ds = loompy.connect(path)\n",
    "        proj = ds.col_attrs[\"Project\"][0]\n",
    "        ds.close()\n",
    "    except ValueError:\n",
    "        _, e, _ = sys.exc_info()\n",
    "        proj = None\n",
    "        print (\"%s\" % e)\n",
    "    if proj == \"Dev\":\n",
    "        shutil.copy(path, \"/data2/loom_files/development/\")\n",
    "        os.remove(path)\n",
    "    elif proj == \"Adol\":\n",
    "        shutil.copy(path, \"/data2/loom_files/adolescent/\")\n",
    "        os.remove(path)\n",
    "    elif proj == None:\n",
    "        pass\n",
    "    else:\n",
    "        shutil.copy(path, \"/data2/loom_files/others/\")\n",
    "        os.remove(path)"
   ]
  },
  {
   "cell_type": "code",
   "execution_count": 7,
   "metadata": {
    "ExecuteTime": {
     "end_time": "2017-01-10T17:41:37.426849",
     "start_time": "2017-01-10T17:41:37.418440"
    },
    "collapsed": false,
    "run_control": {
     "frozen": false,
     "read_only": false
    }
   },
   "outputs": [
    {
     "data": {
      "text/plain": [
       "'0.22.14'"
      ]
     },
     "execution_count": 7,
     "metadata": {},
     "output_type": "execute_result"
    }
   ],
   "source": [
    "loompy.__version__"
   ]
  },
  {
   "cell_type": "markdown",
   "metadata": {
    "run_control": {
     "frozen": false,
     "read_only": false
    }
   },
   "source": [
    "# Update in case of new data file generated"
   ]
  },
  {
   "cell_type": "markdown",
   "metadata": {
    "run_control": {
     "frozen": false,
     "read_only": false
    }
   },
   "source": [
    "2017-01-12 01:41:19 "
   ]
  },
  {
   "cell_type": "code",
   "execution_count": 26,
   "metadata": {
    "ExecuteTime": {
     "end_time": "2017-01-12T01:23:33.747357",
     "start_time": "2017-01-12T01:23:33.688787"
    },
    "collapsed": false,
    "run_control": {
     "frozen": false,
     "read_only": false
    }
   },
   "outputs": [],
   "source": [
    "paths_loaded = !ls /data2/loom_files/adolescent/*.loom\n",
    "temp = !ls /data2/loom_files/development/*.loom\n",
    "paths_loaded+=temp\n",
    "temp = !ls /data2/loom_files/others/*.loom\n",
    "paths_loaded +=temp\n",
    "temp = !ls /data2/loom_files/development/failed/*.loom\n",
    "paths_loaded +=temp\n",
    "paths_loaded = [i.split(\"/\")[-1] for i in paths_loaded]"
   ]
  },
  {
   "cell_type": "code",
   "execution_count": 23,
   "metadata": {
    "ExecuteTime": {
     "end_time": "2017-01-12T01:22:56.436814",
     "start_time": "2017-01-12T01:22:54.361916"
    },
    "collapsed": false,
    "run_control": {
     "frozen": false,
     "read_only": false
    }
   },
   "outputs": [],
   "source": [
    "paths_updated = !gsutil ls gs://linnarsson-lab-chromium/loom/*.loom\n",
    "paths_updated = [i.split(\"/\")[-1] for i in paths_updated]"
   ]
  },
  {
   "cell_type": "code",
   "execution_count": 29,
   "metadata": {
    "ExecuteTime": {
     "end_time": "2017-01-12T01:25:11.837856",
     "start_time": "2017-01-12T01:25:11.827011"
    },
    "collapsed": false,
    "run_control": {
     "frozen": false,
     "read_only": false
    }
   },
   "outputs": [
    {
     "data": {
      "text/plain": [
       "['10X71_5.loom', '10X60_3.loom', '10X54_8.loom', '10X71_3.loom']"
      ]
     },
     "execution_count": 29,
     "metadata": {},
     "output_type": "execute_result"
    }
   ],
   "source": [
    "new_ones = list(set(paths_updated) - set(paths_loaded))\n",
    "new_ones"
   ]
  },
  {
   "cell_type": "code",
   "execution_count": 33,
   "metadata": {
    "ExecuteTime": {
     "end_time": "2017-01-12T01:29:12.939266",
     "start_time": "2017-01-12T01:28:51.320912"
    },
    "collapsed": false,
    "run_control": {
     "frozen": false,
     "read_only": false
    }
   },
   "outputs": [
    {
     "name": "stdout",
     "output_type": "stream",
     "text": [
      "Copying gs://linnarsson-lab-chromium/loom/10X71_5.loom...\n",
      "\\ [1 files][124.7 MiB/124.7 MiB]                                                \n",
      "Operation completed over 1 objects/124.7 MiB.                                    \n",
      "Copying gs://linnarsson-lab-chromium/loom/10X60_3.loom...\n",
      "/ [1 files][ 91.5 MiB/ 91.5 MiB]                                                \n",
      "Operation completed over 1 objects/91.5 MiB.                                     \n",
      "Copying gs://linnarsson-lab-chromium/loom/10X54_8.loom...\n",
      "==> NOTE: You are downloading one or more large file(s), which would\n",
      "run significantly faster if you enabled sliced object downloads. This\n",
      "feature is enabled by default but requires that compiled crcmod be\n",
      "installed (see \"gsutil help crcmod\").\n",
      "\n",
      "| [1 files][165.2 MiB/165.2 MiB]                                                \n",
      "Operation completed over 1 objects/165.2 MiB.                                    \n",
      "Copying gs://linnarsson-lab-chromium/loom/10X71_3.loom...\n",
      "- [1 files][113.2 MiB/113.2 MiB]                                                \n",
      "Operation completed over 1 objects/113.2 MiB.                                    \n"
     ]
    }
   ],
   "source": [
    "for file_id in new_ones:\n",
    "    path_to_file = \"gs://linnarsson-lab-chromium/loom/%s\" %  file_id\n",
    "    !gsutil cp $path_to_file /data2/loom_files"
   ]
  },
  {
   "cell_type": "code",
   "execution_count": 35,
   "metadata": {
    "ExecuteTime": {
     "end_time": "2017-01-12T01:34:48.676073",
     "start_time": "2017-01-12T01:34:48.652341"
    },
    "collapsed": false,
    "run_control": {
     "frozen": false,
     "read_only": false
    }
   },
   "outputs": [
    {
     "data": {
      "text/plain": [
       "['/data2/loom_files/10X08_1.loom',\n",
       " '/data2/loom_files/10X21_2.loom',\n",
       " '/data2/loom_files/10X23_2.loom',\n",
       " '/data2/loom_files/10X37_2.loom',\n",
       " '/data2/loom_files/10X39_2.loom',\n",
       " '/data2/loom_files/10X39_3.loom',\n",
       " '/data2/loom_files/10X54_8.loom',\n",
       " '/data2/loom_files/10X60_3.loom',\n",
       " '/data2/loom_files/10X71_3.loom',\n",
       " '/data2/loom_files/10X71_5.loom']"
      ]
     },
     "metadata": {},
     "output_type": "display_data"
    }
   ],
   "source": [
    "paths = !ls /data2/loom_files/*.loom\n",
    "display(paths)"
   ]
  },
  {
   "cell_type": "code",
   "execution_count": 36,
   "metadata": {
    "ExecuteTime": {
     "end_time": "2017-01-12T01:35:08.311567",
     "start_time": "2017-01-12T01:35:08.183085"
    },
    "collapsed": false,
    "run_control": {
     "frozen": false,
     "read_only": false
    }
   },
   "outputs": [
    {
     "name": "stdout",
     "output_type": "stream",
     "text": [
      "79\r\n"
     ]
    }
   ],
   "source": [
    "!ls /data2/loom_files/development/ | wc -l"
   ]
  },
  {
   "cell_type": "code",
   "execution_count": 39,
   "metadata": {
    "ExecuteTime": {
     "end_time": "2017-01-12T01:42:42.209076",
     "start_time": "2017-01-12T01:42:42.080625"
    },
    "collapsed": false,
    "run_control": {
     "frozen": false,
     "read_only": false
    }
   },
   "outputs": [
    {
     "name": "stdout",
     "output_type": "stream",
     "text": [
      "123\r\n"
     ]
    }
   ],
   "source": [
    "!ls /data2/loom_files/adolescent/ | wc -l"
   ]
  },
  {
   "cell_type": "code",
   "execution_count": 40,
   "metadata": {
    "ExecuteTime": {
     "end_time": "2017-01-12T01:42:59.857110",
     "start_time": "2017-01-12T01:42:53.983284"
    },
    "collapsed": false,
    "run_control": {
     "frozen": false,
     "read_only": false
    }
   },
   "outputs": [
    {
     "name": "stderr",
     "output_type": "stream",
     "text": [
      "2017-01-12 01:42:53,998 - INFO - Connecting to: /data2/loom_files/10X08_1.loom\n",
      "2017-01-12 01:42:54,452 - INFO - Connecting to: /data2/loom_files/10X21_2.loom\n",
      "2017-01-12 01:42:54,978 - INFO - Connecting to: /data2/loom_files/10X23_2.loom\n",
      "2017-01-12 01:42:55,515 - INFO - Connecting to: /data2/loom_files/10X37_2.loom\n",
      "2017-01-12 01:42:56,145 - INFO - Connecting to: /data2/loom_files/10X39_2.loom\n",
      "2017-01-12 01:42:56,721 - INFO - Connecting to: /data2/loom_files/10X39_3.loom\n",
      "2017-01-12 01:42:57,326 - INFO - Connecting to: /data2/loom_files/10X54_8.loom\n",
      "2017-01-12 01:42:58,163 - INFO - Connecting to: /data2/loom_files/10X60_3.loom\n",
      "2017-01-12 01:42:58,651 - INFO - Connecting to: /data2/loom_files/10X71_3.loom\n",
      "2017-01-12 01:42:59,232 - INFO - Connecting to: /data2/loom_files/10X71_5.loom\n"
     ]
    }
   ],
   "source": [
    "for path in paths:\n",
    "    try:\n",
    "        ds = loompy.connect(path)\n",
    "        proj = ds.col_attrs[\"Project\"][0]\n",
    "        ds.close()\n",
    "    except ValueError:\n",
    "        _, e, _ = sys.exc_info()\n",
    "        proj = None\n",
    "        print (\"%s\" % e)\n",
    "    if proj == \"Dev\":\n",
    "        shutil.copy(path, \"/data2/loom_files/development/\")\n",
    "        os.remove(path)\n",
    "    elif proj == \"Adol\":\n",
    "        shutil.copy(path, \"/data2/loom_files/adolescent/\")\n",
    "        os.remove(path)\n",
    "    elif proj == None:\n",
    "        pass\n",
    "    else:\n",
    "        shutil.copy(path, \"/data2/loom_files/others/\")\n",
    "        os.remove(path)"
   ]
  },
  {
   "cell_type": "code",
   "execution_count": 41,
   "metadata": {
    "ExecuteTime": {
     "end_time": "2017-01-12T01:43:20.499295",
     "start_time": "2017-01-12T01:43:20.368936"
    },
    "collapsed": false,
    "run_control": {
     "frozen": false,
     "read_only": false
    }
   },
   "outputs": [
    {
     "name": "stdout",
     "output_type": "stream",
     "text": [
      "82\r\n"
     ]
    }
   ],
   "source": [
    "!ls /data2/loom_files/development/ | wc -l"
   ]
  },
  {
   "cell_type": "code",
   "execution_count": 42,
   "metadata": {
    "ExecuteTime": {
     "end_time": "2017-01-12T01:43:26.994756",
     "start_time": "2017-01-12T01:43:26.865880"
    },
    "collapsed": false,
    "run_control": {
     "frozen": false,
     "read_only": false
    }
   },
   "outputs": [
    {
     "name": "stdout",
     "output_type": "stream",
     "text": [
      "124\r\n"
     ]
    }
   ],
   "source": [
    "!ls /data2/loom_files/adolescent/ | wc -l"
   ]
  }
 ],
 "metadata": {
  "anaconda-cloud": {},
  "hide_input": false,
  "kernelspec": {
   "display_name": "Python 3",
   "language": "python",
   "name": "python3"
  },
  "language_info": {
   "codemirror_mode": {
    "name": "ipython",
    "version": 3
   },
   "file_extension": ".py",
   "mimetype": "text/x-python",
   "name": "python",
   "nbconvert_exporter": "python",
   "pygments_lexer": "ipython3",
   "version": "3.5.2"
  }
 },
 "nbformat": 4,
 "nbformat_minor": 1
}
