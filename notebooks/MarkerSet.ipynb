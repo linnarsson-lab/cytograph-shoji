{
 "cells": [
  {
   "cell_type": "code",
   "execution_count": 1,
   "metadata": {},
   "outputs": [],
   "source": [
    "%matplotlib inline\n",
    "import os\n",
    "import loompy\n",
    "import logging\n",
    "import pandas as pd\n",
    "import numpy as np\n",
    "import cytograph as cg\n",
    "from sklearn.preprocessing import LabelEncoder\n",
    "from sklearn.svm import SVC\n",
    "from sklearn.metrics import classification_report\n",
    "from sklearn.model_selection import train_test_split\n",
    "from sklearn.neighbors import *\n",
    "from sklearn.metrics.pairwise import cosine_distances\n",
    "import numpy_groupies as npg\n",
    "import matplotlib.pyplot as plt"
   ]
  },
  {
   "cell_type": "code",
   "execution_count": 18,
   "metadata": {},
   "outputs": [
    {
     "name": "stdout",
     "output_type": "stream",
     "text": [
      "Meis2\n",
      "DEINH1 1.57522123894 True\n",
      "DEINH2 2.1497005988 True\n",
      "TEINH10 0.0 False\n",
      "TEINH11 0.00454545454545 False\n",
      "TEINH12 0.0 False\n",
      "TEINH13 0.0306748466258 False\n",
      "TEINH14 0.021327014218 False\n",
      "TEINH15 0.0159027128157 False\n",
      "TEINH16 0.00155279503106 False\n",
      "TEINH17 0.04 False\n",
      "TEINH18 0.0109689213894 False\n",
      "TEINH19 0.00576923076923 False\n",
      "TEINH20 1.69064748201 True\n",
      "TEINH21 0.0753246753247 False\n",
      "TEINH4 0.0108527131783 False\n",
      "TEINH5 0.00445434298441 False\n",
      "TEINH6 0.0 False\n",
      "TEINH7 0.0 False\n",
      "TEINH8 0.0 False\n",
      "TEINH9 0.0 False\n"
     ]
    }
   ],
   "source": [
    "with loompy.connect(\"/Users/stelin/build_20171205/L5_All.agg.loom\") as ds:\n",
    "    gene = \"Meis2\"\n",
    "    ct = ds.ca.ClusterName[ds.ca.TaxonomyRank4 == \"Telencephalon inhibitory interneurons\"]\n",
    "    mu = ds[ds.ra.Gene == gene, :][:,ds.ca.TaxonomyRank4 == \"Telencephalon inhibitory interneurons\"][0]\n",
    "    tr = ds[\"trinaries\"][ds.ra.Gene == gene, :][:,ds.ca.TaxonomyRank4 == \"Telencephalon inhibitory interneurons\"][0]\n",
    "    print(gene)\n",
    "    ordering = np.argsort(ct)\n",
    "    ct = ct[ordering]\n",
    "    mu = mu[ordering]\n",
    "    tr = tr[ordering]\n",
    "    for ix in range(len(ct)):\n",
    "        print(ct[ix], mu[ix], tr[ix]>0.95)"
   ]
  },
  {
   "cell_type": "code",
   "execution_count": 31,
   "metadata": {},
   "outputs": [
    {
     "name": "stdout",
     "output_type": "stream",
     "text": [
      "['1500015O10Rik' '1700012B09Rik' '1700042O10Rik' '2210011C24Rik'\n",
      " '2410004P03Rik' '2810417H13Rik' '2810459M11Rik' '3110035E14Rik'\n",
      " '4921539H07Rik' '4930426D05Rik' '4933407L21Rik' '5330429C05Rik'\n",
      " 'A230065H16Rik' 'A2m' 'A830009L08Rik' 'A830036E02Rik' 'AW551984' 'Abi3bp'\n",
      " 'Acbd7' 'Acta2' 'Ada' 'Adarb2' 'Adcyap1' 'Adgrg2' 'Adgrg6' 'Adm' 'Adora2a'\n",
      " 'Adra1b' 'Afp' 'Agrp' 'Agt' 'Ahnak2' 'Ankrd34b' 'Anln' 'Apln' 'Apold1'\n",
      " 'Aqp1' 'Aqp4' 'Arap2' 'Areg' 'Arg1' 'Arhgap36' 'Arhgap6' 'Arsj' 'Asb4'\n",
      " 'Asic4' 'Ass1' 'Atf3' 'Atp2a3' 'Avp' 'B3gat2' 'BC039966' 'Baiap2l1'\n",
      " 'Baiap3' 'Barhl1' 'Bcl2a1b' 'Bglap' 'Bhlhe22' 'Birc2' 'Birc5' 'Bmp3'\n",
      " 'Bmp4' 'C1ql1' 'C1ql2' 'C1ql3' 'C4b' 'Cabp7' 'Cacna2d2' 'Calb1' 'Calb2'\n",
      " 'Calca' 'Calcb' 'Car8' 'Cartpt' 'Cbln1' 'Cbln2' 'Cbln3' 'Cbln4' 'Ccdc153'\n",
      " 'Cckar' 'Ccl24' 'Ccl3' 'Ccl4' 'Ccl7' 'Ccp110' 'Ccrl2' 'Cd93' 'Cdc20'\n",
      " 'Cdhr1' 'Cdk1' 'Cdkl4' 'Cdkn1c' 'Cemip' 'Cenpf' 'Cfap126' 'Chat' 'Chodl'\n",
      " 'Chrm2' 'Chrna2' 'Chrna6' 'Chrnb3' 'Cks2' 'Clca3a1' 'Cldn10' 'Cldn19'\n",
      " 'Cldn5' 'Clec2l' 'Clic6' 'Cnksr3' 'Cnpy1' 'Cnr1' 'Col11a1' 'Col12a1'\n",
      " 'Col18a1' 'Col19a1' 'Col20a1' 'Col25a1' 'Col9a2' 'Coro6' 'Cort' 'Cox4i2'\n",
      " 'Cox6a2' 'Cox8b' 'Cpa6' 'Cplx3' 'Cpne4' 'Cpne6' 'Crabp1' 'Crct1' 'Crh'\n",
      " 'Crhbp' 'Crisp1' 'Csf1r' 'Ctgf' 'Ctla2a' 'Ctss' 'Ctxn3' 'Cxcl1' 'Cxcl14'\n",
      " 'Cxcl2' 'Cyp26b1' 'D930028M14Rik' 'Dapl1' 'Dbh' 'Dbpht2' 'Dcn' 'Defa24'\n",
      " 'Dgkk' 'Dhh' 'Dkk1' 'Dkk3' 'Dkkl1' 'Dlk1' 'Dlx1' 'Dlx2' 'Dmbx1' 'Dmkn'\n",
      " 'Doc2g' 'Dpt' 'Drd1' 'Drd5' 'Dynlrb2' 'E330013P04Rik' 'Ebf1' 'Ebf2' 'Ebf3'\n",
      " 'Ecel1' 'Ecscr' 'Edn3' 'Efhd1' 'Egln3' 'Elfn1' 'Emid1' 'En1' 'Enpp6'\n",
      " 'Eomes' 'Epyc' 'Espn' 'Esrrg' 'Evx1os' 'F13a1' 'Fabp7' 'Fam107a' 'Fam183b'\n",
      " 'Fam198b' 'Fam19a2' 'Fam19a4' 'Fam214a' 'Fam216b' 'Fam92b' 'Fat2' 'Fbln2'\n",
      " 'Fbln5' 'Fcmr' 'Fermt1' 'Fev' 'Fezf1' 'Fezf2' 'Fgfr3' 'Fibcd1' 'Fjx1'\n",
      " 'Flt1' 'Folr1' 'Foxp2' 'Frzb' 'Gabra6' 'Gabrq' 'Gabrr2' 'Gad2' 'Gal'\n",
      " 'Gata3' 'Gbx1' 'Gbx2' 'Gchfr' 'Gdf10' 'Gfap' 'Gfra3' 'Ghrh' 'Gjb1' 'Gjb2'\n",
      " 'Gkn3' 'Gldc' 'Glra1' 'Gm11549' 'Gm12216' 'Gm12371' 'Gm13205' 'Gm14964'\n",
      " 'Gm17750' 'Gm2694' 'Gm27199' 'Gm5741' 'Gm7271' 'Gm8797' 'Gnb3' 'Gng4'\n",
      " 'Gng8' 'Gnrh1' 'Gpr101' 'Gpr139' 'Gpr17' 'Gpr34' 'Gpr83' 'Gpr88' 'Gprasp2'\n",
      " 'Gpsm1' 'Gpx2' 'Gpx3' 'Grm2' 'Grp' 'H2-DMb2' 'H2-Q7' 'Hand1' 'Hapln1'\n",
      " 'Hapln2' 'Hcrt' 'Hdc' 'Hhip' 'Higd1b' 'Hopx' 'Hopxos' 'Hoxa10' 'Hoxa5'\n",
      " 'Hoxa7' 'Hoxa9' 'Hoxb3' 'Hoxb5' 'Hoxb6' 'Hoxb7' 'Hoxb8' 'Hoxb9' 'Hoxc10'\n",
      " 'Hoxc8' 'Hoxc9' 'Hs3st2' 'Hs3st4' 'Hspa1a' 'Htr1a' 'Htr1f' 'Htr2b' 'Htr2c'\n",
      " 'Htr3a' 'Htr3b' 'Htr5b' 'Ibsp' 'Id2' 'Id4' 'Ido1' 'Ifi27l2a' 'Igf2'\n",
      " 'Igfbp6' 'Igfbpl1' 'Igsf1' 'Il22' 'Il23a' 'Il31ra' 'Inhba' 'Inpp5j'\n",
      " 'Insrr' 'Irs4' 'Irx2' 'Irx6' 'Isl1' 'Isl2' 'Islr' 'Itih3' 'Itk' 'Itpr2'\n",
      " 'Kcnc2' 'Kcnd3' 'Kcng1' 'Kcng4' 'Kcnj8' 'Kcnmb1' 'Kcns1' 'Kit' 'Kl'\n",
      " 'Klhl1' 'Klk6' 'Krt12' 'Krt17' 'Krt19' 'Krt27' 'Krt73' 'Lamp5' 'Lbx1'\n",
      " 'Lefty1' 'Lgi2' 'Lhx1os' 'Lhx2' 'Lhx6' 'Lhx8' 'Lhx9' 'Lims2' 'Lmo1' 'Lmo3'\n",
      " 'Lmx1a' 'Lpar3' 'Lpl' 'Lrrc55' 'Lum' 'Ly6a' 'Ly6c1' 'Ly6d' 'Ly6g6e'\n",
      " 'Lypd1' 'Lypd2' 'Lypd6' 'Lypd6b' 'Lyz2' 'Mal' 'Maob' 'Map3k7cl' 'Matn2'\n",
      " 'Mdga1' 'Meis2' 'Meox1' 'Mfap4' 'Mfge8' 'Mgarp' 'Mgp' 'Mgst1' 'Mhrt'\n",
      " 'Mlc1' 'Mlf1' 'Mmp2' 'Mog' 'Moxd1' 'Mpz' 'Mrc1' 'Mrgpra3' 'Mrgprd'\n",
      " 'Ms4a15' 'Ms4a7' 'Mustn1' 'Myh11' 'Myl1' 'Myl4' 'Myoc' 'Nccrp1' 'Ncmap'\n",
      " 'Ndnf' 'Ndst4' 'Ndufa4l2' 'Nefh' 'Nefm' 'Neu4' 'Neurod1' 'Neurod6' 'Ngb'\n",
      " 'Nhlh2' 'Ninj2' 'Nkx2-1' 'Nkx2-9' 'Nmb' 'Nms' 'Nmu' 'Nog' 'Nos1' 'Nov'\n",
      " 'Npas1' 'Npff' 'Npnt' 'Nppa' 'Nppb' 'Nptx1' 'Npw' 'Npy' 'Nr4a2' 'Nr4a3'\n",
      " 'Ntf3' 'Ntng1' 'Ntrk1' 'Nts' 'Ntsr2' 'Nupr1' 'Nwd2' 'Nxph1' 'Nxph2'\n",
      " 'Nxph3' 'Nxph4' 'Olfml2a' 'Omp' 'Opalin' 'Oprk1' 'Otp' 'Otx1' 'Otx2' 'Oxt'\n",
      " 'Oxtr' 'P2rx2' 'P2ry12' 'Pak4' 'Pax2' 'Pax5' 'Pax6' 'Pax7' 'Pbk' 'Pcp2'\n",
      " 'Pdcd4' 'Pde11a' 'Pde1a' 'Pde6g' 'Pdgfra' 'Pdlim1' 'Pdyn' 'Pdzk1ip1'\n",
      " 'Peg10' 'Penk' 'Pf4' 'Pgam2' 'Pglyrp1' 'Pgr15l' 'Phox2a' 'Phox2b' 'Piezo2'\n",
      " 'Pkd1l2' 'Pkd2l1' 'Pkib' 'Pla2g5' 'Platr17' 'Pltp' 'Pmch' 'Pnoc' 'Postn'\n",
      " 'Pou4f1' 'Pou4f2' 'Pou4f3' 'Ppm1j' 'Ppp1r14a' 'Ppp1r17' 'Ppp1r1b'\n",
      " 'Ppp1r3g' 'Prc1' 'Prdm12' 'Prkcd' 'Prkcg' 'Prlh' 'Prok2' 'Prokr2' 'Prph'\n",
      " 'Prr5l' 'Prrxl1' 'Prss12' 'Prss35' 'Prss56' 'Prx' 'Ptgds' 'Ptgfr' 'Ptgir'\n",
      " 'Pthlh' 'Ptpn3' 'Pvalb' 'Pyy' 'RP23-231J2.1' 'RP24-136L4.5' 'Rab37'\n",
      " 'Ramp3' 'Rarres1' 'Rasd1' 'Rasl10a' 'Rasl11a' 'Rbp4' 'Reln' 'Rerg' 'Rgs12'\n",
      " 'Rgs16' 'Rgs5' 'Rgs8' 'Rgs9' 'Rhcg' 'Rims4' 'Rln3' 'Rmst' 'Rnf152' 'Rorb'\n",
      " 'Rpp25' 'Rprm' 'Rps12-ps3' 'Rras2' 'Rrm2' 'Runx1' 'Rxfp1' 'Rxrg' 'S100a4'\n",
      " 'S1pr1' 'Sag' 'Sall3' 'Samsn1' 'Sapcd2' 'Satb2' 'Scgn' 'Scn10a' 'Scn4b'\n",
      " 'Scn5a' 'Scn7a' 'Sctr' 'Scube1' 'Selplg' 'Sema3g' 'Sema4d' 'Serpinb1b'\n",
      " 'Shisa8' 'Shox2' 'Sim1' 'Six3' 'Six6' 'Slc13a3' 'Slc17a6' 'Slc18a2'\n",
      " 'Slc18a3' 'Slc1a6' 'Slc30a3' 'Slc32a1' 'Slc36a2' 'Slc47a1' 'Slc5a7'\n",
      " 'Slc6a11' 'Slc6a13' 'Slc6a2' 'Slc6a3' 'Slc6a4' 'Slc6a5' 'Slc7a10' 'Sln'\n",
      " 'Smim17' 'Smim22' 'Socs3' 'Sorcs1' 'Sostdc1' 'Sox11' 'Sox14' 'Sp9' 'Spdef'\n",
      " 'Spink8' 'Spon2' 'Spp1' 'Spp2' 'Sspo' 'Sst' 'Sstr2' 'St8sia6' 'Stac2'\n",
      " 'Steap2' 'Stk32b' 'Sulf1' 'Sumo2' 'Sv2c' 'Synpo2' 'Synpr' 'Syt2' 'Tac1'\n",
      " 'Tac2' 'Tacr1' 'Tacstd2' 'Tagln' 'Tal1' 'Tax1bp3' 'Tbr1' 'Tbx18' 'Tbx20'\n",
      " 'Tbx3os1' 'Tbx3os2' 'Tcap' 'Tcerg1l' 'Tcf7l2' 'Teddm3' 'Tfap2b' 'Tfap2c'\n",
      " 'Tfap2d' 'Th' 'Thbd' 'Thrsp' 'Timp4' 'Tlx3' 'Tm4sf4' 'Tmc3' 'Tmem114'\n",
      " 'Tmem119' 'Tmem132c' 'Tmem141' 'Tmem163' 'Tmem2' 'Tmem212' 'Tmem233'\n",
      " 'Tmem255b' 'Tmem45b' 'Tmem54' 'Tmem72' 'Tmem88b' 'Tnf' 'Tnnc1' 'Tnni3'\n",
      " 'Tnnt1' 'Tnnt3' 'Tnr' 'Top2a' 'Tph2' 'Trappc3l' 'Trdn' 'Trem2' 'Trh'\n",
      " 'Trhr' 'Trim54' 'Trp73' 'Trpv1' 'Tshz2' 'Tspan8' 'Ttr' 'Tubgcp2' 'Tyrp1'\n",
      " 'Ube2c' 'Ucn' 'Ucn3' 'Ugt8a' 'Urah' 'Uts2b' 'Vamp1' 'Vip' 'Vtn' 'Vwc2l'\n",
      " 'Wfdc2' 'Wfs1' 'Wnt2' 'Wnt4' 'Yjefn3' 'Zic1']\n"
     ]
    }
   ],
   "source": [
    "with loompy.connect(\"/Users/stelin/build_20171205/L5_All.agg.loom\") as ds:\n",
    "    enrichment = ds[\"enrichment\"][:,:]\n",
    "    genes = []\n",
    "    for ix in range(ds.shape[1]):\n",
    "        genes += list(ds.ra.Gene[np.argsort(-enrichment[:, ix])[:5]])\n",
    "    print(np.unique(genes))"
   ]
  },
  {
   "cell_type": "code",
   "execution_count": 32,
   "metadata": {},
   "outputs": [
    {
     "data": {
      "text/plain": [
       "(667,)"
      ]
     },
     "execution_count": 32,
     "metadata": {},
     "output_type": "execute_result"
    }
   ],
   "source": [
    "np.unique(genes).shape"
   ]
  },
  {
   "cell_type": "markdown",
   "metadata": {},
   "source": [
    "## TODO\n",
    "\n",
    "1. Make table of expression for Kenneth's genes\n",
    "2. Make function to measure specificity of a gene set\n",
    "3. Reduce gene set gradually and plot specificity\n",
    "4. Calculate number of genes and total expression per cluster\n",
    "\n",
    "Same analysis on interneurons using the 99 genes"
   ]
  }
 ],
 "metadata": {
  "kernelspec": {
   "display_name": "Python 3",
   "language": "python",
   "name": "python3"
  },
  "language_info": {
   "codemirror_mode": {
    "name": "ipython",
    "version": 3
   },
   "file_extension": ".py",
   "mimetype": "text/x-python",
   "name": "python",
   "nbconvert_exporter": "python",
   "pygments_lexer": "ipython3",
   "version": "3.6.3"
  }
 },
 "nbformat": 4,
 "nbformat_minor": 2
}
