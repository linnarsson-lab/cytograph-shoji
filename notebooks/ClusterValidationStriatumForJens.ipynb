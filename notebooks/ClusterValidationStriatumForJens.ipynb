{
 "cells": [
  {
   "cell_type": "code",
   "execution_count": 1,
   "metadata": {},
   "outputs": [
    {
     "name": "stderr",
     "output_type": "stream",
     "text": [
      "/Users/sten/anaconda3/lib/python3.6/site-packages/numba/decorators.py:149: RuntimeWarning: Caching is not available when the 'parallel' target is in use. Caching is now being disabled to allow execution to continue.\n",
      "  warnings.warn(msg, RuntimeWarning)\n"
     ]
    }
   ],
   "source": [
    "%matplotlib inline\n",
    "import loompy\n",
    "import logging\n",
    "import pandas as pd\n",
    "import numpy as np\n",
    "import cytograph as cg\n",
    "from sklearn.preprocessing import LabelEncoder\n",
    "from sklearn.svm import SVC\n",
    "from sklearn.metrics import classification_report\n",
    "from sklearn.model_selection import train_test_split\n",
    "from sklearn.neighbors import *\n",
    "from sklearn.metrics.pairwise import cosine_distances\n",
    "import numpy_groupies as npg\n",
    "import matplotlib.pyplot as plt"
   ]
  },
  {
   "cell_type": "code",
   "execution_count": 2,
   "metadata": {},
   "outputs": [],
   "source": [
    "d = \"/Users/stelin/Dropbox (Linnarsson Group)/Shared/C1_striatum/Wafergen_exp_Striatum_June2017/oct_2017/20171020/\"\n",
    "anns = \"cell_annotation_WG_striatum_FinaleClusters_20-Oct-2017.txt\"\n",
    "moldata = \"moldata_WG_striatum_FinalCluster_no_annot_20-Oct-2017.txt\""
   ]
  },
  {
   "cell_type": "code",
   "execution_count": 3,
   "metadata": {},
   "outputs": [],
   "source": [
    "pdanns = pd.read_csv(d+anns, sep=\"\\t\",index_col=0,header=None).transpose()\n",
    "pdmoldata = pd.read_csv(d+moldata, sep=\",\",index_col=0,header=0).transpose()"
   ]
  },
  {
   "cell_type": "code",
   "execution_count": 4,
   "metadata": {},
   "outputs": [],
   "source": [
    "genes = pdmoldata.transpose().index.values"
   ]
  },
  {
   "cell_type": "code",
   "execution_count": 5,
   "metadata": {},
   "outputs": [
    {
     "data": {
      "text/plain": [
       "array(['marker-DsRed', 'marker-GFP', 'Mrpl15', ..., 'Uty', 'Ddx3y', 'Erdr1'], dtype=object)"
      ]
     },
     "execution_count": 5,
     "metadata": {},
     "output_type": "execute_result"
    }
   ],
   "source": [
    "genes"
   ]
  },
  {
   "cell_type": "code",
   "execution_count": 6,
   "metadata": {},
   "outputs": [],
   "source": [
    "loompy.create(d + \"WG_striatum.loom\", pdmoldata.values.transpose(), row_attrs={\"Gene\": genes}, col_attrs=pdanns.to_dict(orient=\"list\"))"
   ]
  },
  {
   "cell_type": "code",
   "execution_count": 12,
   "metadata": {},
   "outputs": [
    {
     "name": "stderr",
     "output_type": "stream",
     "text": [
      "2018-04-08 14:44:38,375 INFO: Feature selection\n",
      "2018-04-08 14:44:39,120 INFO: Normalization\n",
      "2018-04-08 14:44:41,176 INFO: Feature selection\n",
      "2018-04-08 14:44:41,177 INFO: Computing enrichment statistic\n",
      "2018-04-08 14:44:46,849 INFO: PCA projection\n"
     ]
    },
    {
     "data": {
      "image/png": "[encoded data removed]",
      "text/plain": [
       "<matplotlib.figure.Figure at 0x1a20d89128>"
      ]
     },
     "metadata": {},
     "output_type": "display_data"
    }
   ],
   "source": [
    "with loompy.connect(d + \"WG_striatum.loom\") as ds:\n",
    "    ds.ca.ClusterName = ds.ca.grLev2\n",
    "    ds.ca.Clusters = LabelEncoder().fit_transform(ds.ca.ClusterName)\n",
    "    cv = cg.ClusterValidator()\n",
    "    cv.fit(ds, d + \"validation.pdf\")"
   ]
  },
  {
   "cell_type": "code",
   "execution_count": 13,
   "metadata": {},
   "outputs": [
    {
     "name": "stdout",
     "output_type": "stream",
     "text": [
      "             precision    recall  f1-score   support\n",
      "\n",
      "        Cck       1.00      0.57      0.73         7\n",
      "   Cck+Vip+       0.50      1.00      0.67         1\n",
      "       Chat       1.00      1.00      1.00        11\n",
      "    Cycling       1.00      0.87      0.93        15\n",
      "  Migrating       0.98      0.94      0.96       158\n",
      "   Npy+Sst+       1.00      0.99      1.00       113\n",
      "    Npy-Mia       1.00      1.00      1.00         1\n",
      "      Pthlh       0.96      1.00      0.98       265\n",
      "         Th       0.91      0.94      0.93       113\n",
      "\n",
      "avg / total       0.97      0.96      0.96       684\n",
      "\n"
     ]
    }
   ],
   "source": [
    "print(cv.report)"
   ]
  },
  {
   "cell_type": "code",
   "execution_count": null,
   "metadata": {},
   "outputs": [],
   "source": []
  }
 ],
 "metadata": {
  "kernelspec": {
   "display_name": "Python 3",
   "language": "python",
   "name": "python3"
  },
  "language_info": {
   "codemirror_mode": {
    "name": "ipython",
    "version": 3
   },
   "file_extension": ".py",
   "mimetype": "text/x-python",
   "name": "python",
   "nbconvert_exporter": "python",
   "pygments_lexer": "ipython3",
   "version": "3.6.3"
  }
 },
 "nbformat": 4,
 "nbformat_minor": 2
}
