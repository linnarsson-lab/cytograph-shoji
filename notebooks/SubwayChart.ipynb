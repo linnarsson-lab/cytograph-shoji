{
 "cells": [
  {
   "cell_type": "code",
   "execution_count": 2,
   "metadata": {},
   "outputs": [
    {
     "name": "stderr",
     "output_type": "stream",
     "text": [
      "2019-03-25 16:22:02,579 DEBUG: backend module://ipykernel.pylab.backend_inline version unknown\n"
     ]
    }
   ],
   "source": [
    "%config InlineBackend.figure_format = 'retina'\n",
    "%matplotlib inline\n",
    "import sys\n",
    "import os\n",
    "import numpy as np\n",
    "import matplotlib\n",
    "import matplotlib.pyplot as plt\n",
    "import loompy\n",
    "import velocyto as vcy\n",
    "import logging\n",
    "from sklearn.svm import SVR\n",
    "from sklearn.linear_model import LinearRegression\n",
    "from statsmodels.nonparametric.smoothers_lowess import lowess\n",
    "from scipy.interpolate import interp1d\n",
    "import cytograph as cg\n",
    "import loompy\n",
    "import numpy as np\n",
    "import scipy.sparse as sparse\n",
    "import torch\n",
    "from torch.distributions.poisson import Poisson\n",
    "from torch.autograd import Variable\n",
    "from torch.nn import MSELoss\n",
    "from tqdm import trange\n",
    "from types import SimpleNamespace\n",
    "from matplotlib.colors import Normalize\n",
    "from matplotlib.collections import LineCollection"
   ]
  }
 ],
 "metadata": {
  "kernelspec": {
   "display_name": "Python 3",
   "language": "python",
   "name": "python3"
  },
  "language_info": {
   "codemirror_mode": {
    "name": "ipython",
    "version": 3
   },
   "file_extension": ".py",
   "mimetype": "text/x-python",
   "name": "python",
   "nbconvert_exporter": "python",
   "pygments_lexer": "ipython3",
   "version": "3.7.0"
  }
 },
 "nbformat": 4,
 "nbformat_minor": 2
}
