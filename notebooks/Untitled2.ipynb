{
 "cells": [
  {
   "cell_type": "code",
   "execution_count": 2,
   "metadata": {},
   "outputs": [
    {
     "ename": "SyntaxError",
     "evalue": "invalid syntax (<ipython-input-2-9f00d0a4c048>, line 4)",
     "output_type": "error",
     "traceback": [
      "\u001b[0;36m  File \u001b[0;32m\"<ipython-input-2-9f00d0a4c048>\"\u001b[0;36m, line \u001b[0;32m4\u001b[0m\n\u001b[0;31m    cimport numpy as np\u001b[0m\n\u001b[0m                ^\u001b[0m\n\u001b[0;31mSyntaxError\u001b[0m\u001b[0;31m:\u001b[0m invalid syntax\n"
     ]
    }
   ],
   "source": [
    "import numpy as np\n",
    "#import velocyto.speedboosted\n",
    "x = np.arange(1000000).reshape(1000,1000)\n",
    "print(np.std(x,axis=1)[0], np.std(x[0,:]))"
   ]
  },
  {
   "cell_type": "code",
   "execution_count": 3,
   "metadata": {},
   "outputs": [
    {
     "name": "stdout",
     "output_type": "stream",
     "text": [
      "[('SPI1_extended_(1805g)', 'u1'), ('SPI1_(1756g)', 'u1'), ('KLF5_extended_(1521g)', 'u1'), ('EHF_extended_(1513g)', 'u1'), ('STAT1_extended_(1443g)', 'u1'), ('ELF3_extended_(1249g)', 'u1'), ('STAT1_(1212g)', 'u1'), ('CEBPB_extended_(1162g)', 'u1'), ('CEBPB_(1045g)', 'u1'), ('KLF5_(1038g)', 'u1'), ('ELF1_extended_(987g)', 'u1'), ('ETS2_extended_(932g)', 'u1'), ('IRF8_extended_(923g)', 'u1'), ('JUND_extended_(789g)', 'u1'), ('EHF_(762g)', 'u1'), ('ELF1_(753g)', 'u1'), ('TFEC_extended_(694g)', 'u1'), ('ETS2_(688g)', 'u1'), ('IRF7_extended_(688g)', 'u1'), ('IRF8_(687g)', 'u1'), ('XBP1_extended_(669g)', 'u1'), ('IRF1_extended_(662g)', 'u1'), ('ETS1_extended_(647g)', 'u1'), ('IRF1_(617g)', 'u1'), ('IRF7_(616g)', 'u1'), ('XBP1_(587g)', 'u1'), ('ETS1_(577g)', 'u1'), ('UQCRB_(573g)', 'u1'), ('PRDM1_extended_(538g)', 'u1'), ('RUNX3_extended_(532g)', 'u1'), ('CREM_extended_(507g)', 'u1'), ('REL_extended_(497g)', 'u1'), ('TFEC_(483g)', 'u1'), ('CREM_(442g)', 'u1'), ('FOSL2_extended_(442g)', 'u1'), ('FOS_extended_(436g)', 'u1'), ('REL_(434g)', 'u1'), ('TEAD1_extended_(417g)', 'u1'), ('RUNX3_(414g)', 'u1'), ('TEAD1_(413g)', 'u1'), ('FOSB_extended_(403g)', 'u1'), ('RFX3_extended_(391g)', 'u1'), ('RFX3_(380g)', 'u1'), ('CREB3L2_extended_(372g)', 'u1'), ('FOSL1_extended_(360g)', 'u1'), ('IRF9_extended_(358g)', 'u1'), ('FOXP1_extended_(334g)', 'u1'), ('ATF3_extended_(333g)', 'u1'), ('CEBPD_extended_(330g)', 'u1'), ('SOX4_extended_(320g)', 'u1'), ('IRF9_(302g)', 'u1'), ('CREB3L2_(289g)', 'u1'), ('STAT2_extended_(287g)', 'u1'), ('FOXP1_(286g)', 'u1'), ('EGR1_extended_(284g)', 'u1'), ('MAFK_extended_(280g)', 'u1'), ('JUND_(274g)', 'u1'), ('ATF3_(265g)', 'u1'), ('ATF4_extended_(261g)', 'u1'), ('SOX4_(260g)', 'u1'), ('ELF3_(260g)', 'u1'), ('FOSL1_(253g)', 'u1'), ('NFE2L2_extended_(253g)', 'u1'), ('BCL3_extended_(250g)', 'u1'), ('RFX2_extended_(248g)', 'u1'), ('PIR_(247g)', 'u1'), ('RFX2_(241g)', 'u1'), ('CEBPD_(241g)', 'u1'), ('YY1_extended_(240g)', 'u1'), ('PPARG_extended_(235g)', 'u1'), ('SF1_(234g)', 'u1'), ('STAT2_(234g)', 'u1'), ('EOMES_extended_(223g)', 'u1'), ('YBX1_extended_(212g)', 'u1'), ('NR1H3_extended_(208g)', 'u1'), ('FOSB_(207g)', 'u1'), ('NR1H3_(207g)', 'u1'), ('BCL11A_extended_(207g)', 'u1'), ('HIF1A_extended_(207g)', 'u1'), ('HIF1A_(206g)', 'u1'), ('SPIB_extended_(207g)', 'u1'), ('BCL3_(201g)', 'u1'), ('EGR1_(199g)', 'u1'), ('IRF2_extended_(196g)', 'u1'), ('SPIB_(195g)', 'u1'), ('FOXO3_extended_(191g)', 'u1'), ('YY1_(188g)', 'u1'), ('ELK3_extended_(186g)', 'u1'), ('IRF2_(179g)', 'u1'), ('HTATIP2_(179g)', 'u1'), ('NR2F6_extended_(176g)', 'u1'), ('ATF4_(168g)', 'u1'), ('EOMES_(168g)', 'u1'), ('FOXO3_(168g)', 'u1'), ('NFIL3_extended_(163g)', 'u1'), ('NFKB1_extended_(156g)', 'u1'), ('NFKB1_(146g)', 'u1'), ('BCL11A_(142g)', 'u1'), ('TFDP2_extended_(141g)', 'u1'), ('MYBL2_extended_(141g)', 'u1'), ('MYBL2_(140g)', 'u1'), ('CREB5_extended_(139g)', 'u1'), ('CREB3_extended_(137g)', 'u1'), ('GABPB1_extended_(134g)', 'u1'), ('MYC_extended_(128g)', 'u1'), ('TFEB_extended_(128g)', 'u1'), ('ELF2_extended_(123g)', 'u1'), ('NR2F6_(121g)', 'u1'), ('MAF_extended_(119g)', 'u1'), ('MAFK_(117g)', 'u1'), ('LUZP1_(111g)', 'u1'), ('FLI1_extended_(111g)', 'u1'), ('FOSL2_(109g)', 'u1'), ('BCLAF1_extended_(109g)', 'u1'), ('NFKB2_extended_(107g)', 'u1'), ('RXRA_extended_(107g)', 'u1'), ('BHLHE41_extended_(106g)', 'u1'), ('MEF2C_extended_(106g)', 'u1'), ('TFDP1_extended_(106g)', 'u1'), ('HDAC2_(105g)', 'u1'), ('GATA2_extended_(103g)', 'u1'), ('KLF3_extended_(102g)', 'u1'), ('CREB3_(99g)', 'u1'), ('GATA2_(99g)', 'u1'), ('BHLHE41_(97g)', 'u1'), ('MEF2C_(95g)', 'u1'), ('NFKB2_(95g)', 'u1'), ('HES1_extended_(95g)', 'u1'), ('MAZ_extended_(96g)', 'u1'), ('NR3C1_extended_(94g)', 'u1'), ('RELB_extended_(94g)', 'u1'), ('ATF5_(94g)', 'u1'), ('TFDP1_(93g)', 'u1'), ('TFEB_(92g)', 'u1'), ('PPARG_(90g)', 'u1'), ('ETV7_extended_(90g)', 'u1'), ('SMARCC2_extended_(91g)', 'u1'), ('SMARCC2_(90g)', 'u1'), ('RELB_(88g)', 'u1'), ('KLF7_extended_(88g)', 'u1'), ('GLIS3_extended_(87g)', 'u1'), ('ELF2_(85g)', 'u1'), ('FOXO1_extended_(85g)', 'u1'), ('POLE4_extended_(86g)', 'u1'), ('JUNB_extended_(84g)', 'u1'), ('MAX_extended_(83g)', 'u1'), ('POLE4_(83g)', 'u1'), ('CREB1_extended_(81g)', 'u1'), ('MAX_(80g)', 'u1'), ('ATF2_extended_(80g)', 'u1'), ('GABPA_extended_(79g)', 'u1'), ('RXRA_(78g)', 'u1'), ('POU2F2_extended_(78g)', 'u1'), ('BHLHE40_extended_(77g)', 'u1'), ('FOXP3_extended_(76g)', 'u1'), ('ZNF683_extended_(75g)', 'u1'), ('FOXO1_(72g)', 'u1'), ('ELK1_extended_(72g)', 'u1'), ('TFAP2A_(70g)', 'u1'), ('BDP1_extended_(70g)', 'u1'), ('KLF10_extended_(70g)', 'u1'), ('TBX21_extended_(69g)', 'u1'), ('MYB_extended_(68g)', 'u1'), ('GABPA_(67g)', 'u1'), ('POU2F2_(66g)', 'u1'), ('ELK3_(65g)', 'u1'), ('MAFG_extended_(64g)', 'u1'), ('POU2AF1_extended_(64g)', 'u1'), ('ELK1_(63g)', 'u1'), ('ETV7_(63g)', 'u1'), ('MYB_(63g)', 'u1'), ('NR3C1_(63g)', 'u1'), ('BACH1_extended_(63g)', 'u1'), ('ERF_extended_(63g)', 'u1'), ('JUN_extended_(62g)', 'u1'), ('CREB1_(61g)', 'u1'), ('ATF6B_extended_(61g)', 'u1'), ('NFIX_extended_(59g)', 'u1'), ('SP1_extended_(59g)', 'u1'), ('ATF2_(58g)', 'u1'), ('TBX21_(58g)', 'u1'), ('HES4_extended_(59g)', 'u1'), ('NFIX_(57g)', 'u1'), ('ETV6_extended_(56g)', 'u1'), ('MSC_extended_(56g)', 'u1'), ('MLX_extended_(53g)', 'u1'), ('POLE3_extended_(54g)', 'u1'), ('MYC_(53g)', 'u1'), ('ARNT_extended_(52g)', 'u1'), ('CLOCK_extended_(52g)', 'u1'), ('PPARD_extended_(52g)', 'u1'), ('TCF7_extended_(52g)', 'u1'), ('FLI1_(51g)', 'u1'), ('MYLK_(52g)', 'u1'), ('RORA_(51g)', 'u1'), ('ELK4_extended_(50g)', 'u1'), ('ETV3_extended_(50g)', 'u1'), ('HOXB2_extended_(50g)', 'u1'), ('SMC3_extended_(50g)', 'u1'), ('ELF4_extended_(49g)', 'u1'), ('IRF4_extended_(49g)', 'u1'), ('ERF_(49g)', 'u1'), ('NFIL3_(47g)', 'u1'), ('TCF7_(47g)', 'u1'), ('ATF6_extended_(47g)', 'u1'), ('HSF1_extended_(47g)', 'u1'), ('HES1_(45g)', 'u1'), ('BATF3_extended_(45g)', 'u1'), ('SETDB1_extended_(46g)', 'u1'), ('E2F3_extended_(42g)', 'u1'), ('KLF7_(42g)', 'u1'), ('ZEB1_(42g)', 'u1'), ('SOX2_extended_(41g)', 'u1'), ('USF2_extended_(41g)', 'u1'), ('SETDB1_(41g)', 'u1'), ('CEBPG_extended_(40g)', 'u1'), ('HIVEP2_extended_(40g)', 'u1'), ('SREBF2_extended_(39g)', 'u1'), ('TAF1_extended_(39g)', 'u1'), ('ELK4_(38g)', 'u1'), ('SREBF2_(38g)', 'u1'), ('MAFB_extended_(39g)', 'u1'), ('SOX7_extended_(39g)', 'u1'), ('TGIF2_extended_(38g)', 'u1'), ('E2F6_extended_(37g)', 'u1'), ('NR2C2_extended_(37g)', 'u1'), ('NRF1_extended_(37g)', 'u1'), ('TGIF2_(36g)', 'u1'), ('FOXJ1_extended_(37g)', 'u1'), ('KLF12_extended_(36g)', 'u1'), ('KLF16_extended_(36g)', 'u1'), ('NR2F2_extended_(36g)', 'u1'), ('ETV3_(35g)', 'u1'), ('JUNB_(35g)', 'u1'), ('BATF_extended_(35g)', 'u1'), ('BRF1_(35g)', 'u1'), ('E2F3_(34g)', 'u1'), ('PBX1_(34g)', 'u1'), ('ESRRA_extended_(34g)', 'u1'), ('USF2_(33g)', 'u1'), ('ARNTL2_extended_(33g)', 'u1'), ('RELA_extended_(33g)', 'u1'), ('CEBPG_(32g)', 'u1'), ('KLF2_(32g)', 'u1'), ('TEAD4_(33g)', 'u1'), ('TFAP2C_(32g)', 'u1'), ('TBX3_extended_(32g)', 'u1'), ('FOS_(31g)', 'u1'), ('KLF12_(31g)', 'u1'), ('SP1_(31g)', 'u1'), ('MYEF2_extended_(32g)', 'u1'), ('NFIC_(31g)', 'u1'), ('NRF1_(30g)', 'u1'), ('MSC_(30g)', 'u1'), ('CEBPA_extended_(30g)', 'u1'), ('CENPB_(29g)', 'u1'), ('HIVEP2_(28g)', 'u1'), ('CEBPA_(28g)', 'u1'), ('ESRRA_(27g)', 'u1'), ('TCF7L2_(27g)', 'u1'), ('IRF5_extended_(27g)', 'u1'), ('JUN_(26g)', 'u1'), ('ZBTB7B_extended_(26g)', 'u1'), ('MAFG_(25g)', 'u1'), ('NR2C2_(25g)', 'u1'), ('RAD21_(26g)', 'u1'), ('GATA3_extended_(25g)', 'u1'), ('STAT5A_extended_(24g)', 'u1'), ('DDIT3_extended_(23g)', 'u1'), ('MXI1_extended_(23g)', 'u1'), ('NFYC_extended_(23g)', 'u1'), ('FOXP3_(23g)', 'u1'), ('HOXB2_(23g)', 'u1'), ('MAF_(22g)', 'u1'), ('ZNF143_extended_(22g)', 'u1'), ('BATF_(21g)', 'u1'), ('CREB5_(21g)', 'u1'), ('MLX_(21g)', 'u1'), ('NFYC_(21g)', 'u1'), ('ETV1_extended_(21g)', 'u1'), ('FOXK1_extended_(22g)', 'u1'), ('MAFF_extended_(22g)', 'u1'), ('LEF1_(20g)', 'u1'), ('MECOM_(21g)', 'u1'), ('TAF1_(20g)', 'u1'), ('ZNF143_(20g)', 'u1'), ('DDIT3_(19g)', 'u1'), ('FOXJ1_(20g)', 'u1'), ('IRF4_(20g)', 'u1'), ('KLF4_(20g)', 'u1'), ('NR2F2_(19g)', 'u1'), ('PPARD_(20g)', 'u1'), ('SOX2_(19g)', 'u1'), ('RUNX2_extended_(19g)', 'u1'), ('THAP1_extended_(19g)', 'u1'), ('HES4_(19g)', 'u1'), ('ZBTB33_(19g)', 'u1'), ('BCL6_extended_(18g)', 'u1'), ('GATA3_(18g)', 'u1'), ('ZNF664_(18g)', 'u1'), ('HOXC9_extended_(18g)', 'u1'), ('BCL6_(16g)', 'u1'), ('BHLHE40_(16g)', 'u1'), ('HINFP_(16g)', 'u1'), ('HOXA5_(16g)', 'u1'), ('KLF3_(16g)', 'u1'), ('MEF2A_(16g)', 'u1'), ('ASCL2_extended_(16g)', 'u1'), ('RARA_extended_(16g)', 'u1'), ('ARNT_(16g)', 'u1'), ('PRDM1_(15g)', 'u1'), ('BACH1_(14g)', 'u1'), ('CREBZF_(15g)', 'u1'), ('POU2AF1_(14g)', 'u1'), ('RELA_(14g)', 'u1'), ('ZNF100_(15g)', 'u1'), ('ZNF254_(15g)', 'u1'), ('FOXP4_extended_(14g)', 'u1'), ('IRF6_extended_(14g)', 'u1'), ('NFE2L3_extended_(15g)', 'u1'), ('RFX5_extended_(14g)', 'u1'), ('SRF_extended_(14g)', 'u1'), ('HOXC9_(14g)', 'u1'), ('HSF1_(14g)', 'u1'), ('IKZF2_(13g)', 'u1'), ('RFX5_(13g)', 'u1'), ('SRF_(13g)', 'u1'), ('FOXM1_extended_(14g)', 'u1'), ('NKX2-1_extended_(14g)', 'u1'), ('NR1D2_extended_(13g)', 'u1'), ('POU2F1_extended_(13g)', 'u1'), ('CLOCK_(13g)', 'u1'), ('CTCF_(13g)', 'u1'), ('MAFF_(13g)', 'u1'), ('POU2F1_(12g)', 'u1'), ('RUNX2_(12g)', 'u1'), ('SMAD3_(13g)', 'u1'), ('ETV5_extended_(12g)', 'u1'), ('FOXJ3_extended_(12g)', 'u1'), ('FOXN3_extended_(12g)', 'u1'), ('NFATC1_extended_(13g)', 'u1'), ('ELF4_(12g)', 'u1'), ('ETV1_(11g)', 'u1'), ('FOXP4_(11g)', 'u1'), ('SP2_(11g)', 'u1'), ('TCF3_(12g)', 'u1'), ('ZBTB41_(12g)', 'u1'), ('ZNF503_(12g)', 'u1'), ('HIVEP1_extended_(11g)', 'u1'), ('NPDC1_extended_(12g)', 'u1'), ('RXRB_extended_(11g)', 'u1'), ('FOXK2_(11g)', 'u1'), ('FOXM1_(11g)', 'u1'), ('HDAC1_(10g)', 'u1'), ('MELK_(11g)', 'u1'), ('RARA_(10g)', 'u1'), ('RXRB_(11g)', 'u1'), ('TP53_(10g)', 'u1'), ('ZNF260_(11g)', 'u1'), ('MEF2D_extended_(10g)', 'u1'), ('MLXIP_extended_(11g)', 'u1')]\n"
     ]
    }
   ],
   "source": [
    "import loompy\n",
    "with loompy.connect(\"/Users/stelin/Downloads/Thienpont_T-cell_v4_R_fixed.loom\", validate=False) as ds:\n",
    "    print(ds.ra.Regulons.dtype)"
   ]
  },
  {
   "cell_type": "code",
   "execution_count": 22,
   "metadata": {},
   "outputs": [],
   "source": [
    "ds.close()"
   ]
  },
  {
   "cell_type": "code",
   "execution_count": null,
   "metadata": {},
   "outputs": [],
   "source": []
  }
 ],
 "metadata": {
  "kernelspec": {
   "display_name": "Python 3",
   "language": "python",
   "name": "python3"
  },
  "language_info": {
   "codemirror_mode": {
    "name": "ipython",
    "version": 3
   },
   "file_extension": ".py",
   "mimetype": "text/x-python",
   "name": "python",
   "nbconvert_exporter": "python",
   "pygments_lexer": "ipython3",
   "version": "3.7.0"
  }
 },
 "nbformat": 4,
 "nbformat_minor": 2
}
