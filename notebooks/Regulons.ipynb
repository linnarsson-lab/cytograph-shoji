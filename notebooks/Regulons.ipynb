{
 "cells": [
  {
   "cell_type": "code",
   "execution_count": 180,
   "metadata": {},
   "outputs": [],
   "source": [
    "%matplotlib inline\n",
    "import numpy as np\n",
    "import loompy\n",
    "import cytograph as cg\n",
    "import os\n",
    "import logging\n",
    "import matplotlib.pyplot as plt\n",
    "import scipy.cluster.hierarchy as hc\n",
    "\n",
    "with loompy.connect(\"/Users/sten/build_20171205/L5_All.agg.loom\") as ds:\n",
    "    data = ds[:,:]\n",
    "    nnz = np.count_nonzero(data, axis=1)\n",
    "    data = data[(nnz > 100), :]\n",
    "    genes = ds.ra.Gene[(nnz > 100) ]\n",
    "    data = np.log(data + 1)"
   ]
  },
  {
   "cell_type": "code",
   "execution_count": 181,
   "metadata": {},
   "outputs": [
    {
     "data": {
      "text/plain": [
       "(14041, 265)"
      ]
     },
     "execution_count": 181,
     "metadata": {},
     "output_type": "execute_result"
    }
   ],
   "source": [
    "data.shape"
   ]
  },
  {
   "cell_type": "code",
   "execution_count": 147,
   "metadata": {},
   "outputs": [],
   "source": [
    "d = hc.linkage(data, metric=\"euclidean\")"
   ]
  },
  {
   "cell_type": "code",
   "execution_count": 159,
   "metadata": {},
   "outputs": [
    {
     "data": {
      "text/plain": [
       "7468"
      ]
     },
     "execution_count": 159,
     "metadata": {},
     "output_type": "execute_result"
    }
   ],
   "source": [
    "labels = hc.fcluster(d, t=0.9)\n",
    "labels.max()"
   ]
  },
  {
   "cell_type": "code",
   "execution_count": 160,
   "metadata": {},
   "outputs": [
    {
     "data": {
      "text/plain": [
       "array([ 0,  1,  2,  3,  4,  5,  6,  7,  8,  9, 10, 11, 12, 13, 14, 15, 17,\n",
       "       18, 20, 22, 25, 27, 29, 31, 34, 40, 41, 44])"
      ]
     },
     "execution_count": 160,
     "metadata": {},
     "output_type": "execute_result"
    }
   ],
   "source": [
    "np.unique(np.bincount(labels))"
   ]
  },
  {
   "cell_type": "code",
   "execution_count": 124,
   "metadata": {},
   "outputs": [
    {
     "data": {
      "text/plain": [
       "(array([1148]),)"
      ]
     },
     "execution_count": 124,
     "metadata": {},
     "output_type": "execute_result"
    }
   ],
   "source": []
  },
  {
   "cell_type": "code",
   "execution_count": 167,
   "metadata": {},
   "outputs": [
    {
     "name": "stdout",
     "output_type": "stream",
     "text": [
      "['1700026J14Rik' '4933430I17Rik' 'A230060F14Rik' 'A530053M12Rik' 'Ccdc38'\n",
      " 'Cfd' 'Elf5' 'Fcer2a' 'Fut7' 'Gm11592' 'Gm11998' 'Gm14061' 'Gm15939'\n",
      " 'Gm17552' 'Gm26530' 'Gm26783' 'Gm42512' 'Gm831' 'Gm9918' 'Hhipl1' 'Hif3a'\n",
      " 'Hist1h4a' 'Kcna7' 'Klk1b3' 'Mpo' 'Rnf151' 'Rnf39' 'Serpina11' 'Slc27a5'\n",
      " 'Synpo2l' 'Tmc1' 'Tmem184a' 'Tmprss4' 'Zfp97']\n",
      "['1700047I17Rik2' '4933408N05Rik' 'Aadat' 'Amh' 'Fbxo48' 'Gjd4' 'Gm10184'\n",
      " 'Gm10226' 'Gm10489' 'Gm12925' 'Gm14420' 'Gm14493' 'Gm15894' 'Gm21083'\n",
      " 'Gm26548' 'Gm3448' 'Gm3512' 'Gm35986' 'Gm42809' 'Gm43604' 'Gm43796'\n",
      " 'Gm648' 'Gm6793' 'Gm7293' 'Klk7' 'Lrrc66' 'Lrrc8e' 'Mageb16' 'Nphs2'\n",
      " 'Pou5f1' 'Prr22' 'RP23-235M8.7' 'Tmem254c' 'Zscan10']\n"
     ]
    }
   ],
   "source": [
    "ix = np.where(np.bincount(labels)==34)[0]\n",
    "for i in ix:\n",
    "    print(np.sort(genes[labels==i]))"
   ]
  },
  {
   "cell_type": "code",
   "execution_count": 169,
   "metadata": {},
   "outputs": [
    {
     "data": {
      "text/plain": [
       "array([], dtype=int32)"
      ]
     },
     "execution_count": 169,
     "metadata": {},
     "output_type": "execute_result"
    }
   ],
   "source": [
    "labels[genes==\"Gad2\"]"
   ]
  },
  {
   "cell_type": "code",
   "execution_count": 130,
   "metadata": {},
   "outputs": [
    {
     "data": {
      "text/plain": [
       "array([1148])"
      ]
     },
     "execution_count": 130,
     "metadata": {},
     "output_type": "execute_result"
    }
   ],
   "source": [
    "ix[0]"
   ]
  },
  {
   "cell_type": "code",
   "execution_count": null,
   "metadata": {},
   "outputs": [],
   "source": []
  }
 ],
 "metadata": {
  "kernelspec": {
   "display_name": "Python 3",
   "language": "python",
   "name": "python3"
  },
  "language_info": {
   "codemirror_mode": {
    "name": "ipython",
    "version": 3
   },
   "file_extension": ".py",
   "mimetype": "text/x-python",
   "name": "python",
   "nbconvert_exporter": "python",
   "pygments_lexer": "ipython3",
   "version": "3.6.3"
  }
 },
 "nbformat": 4,
 "nbformat_minor": 2
}
